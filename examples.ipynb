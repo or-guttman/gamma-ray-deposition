{
 "cells": [
  {
   "cell_type": "code",
   "execution_count": 1,
   "metadata": {},
   "outputs": [],
   "source": [
    "import numpy as np\n",
    "import spherical"
   ]
  },
  {
   "cell_type": "markdown",
   "metadata": {},
   "source": [
    "Here are given three examples of spherical density profiles of uniform atomic/isotopic composition, appropriate for NSM ejecta. We assume that the radioactive material has the same density profile as the total density, $\\rho = \\rho_{\\rm rad}$.\n",
    "\n",
    "The output includes: the the semi-analytic solution $f_{\\gamma}(E,t)$ and $f_\\xi(\\xi)$, the ejecta average column density $\\langle\\Sigma\\rangle t^2$, and the parameter of the analytic approximation $n$. "
   ]
  },
  {
   "cell_type": "code",
   "execution_count": 2,
   "metadata": {},
   "outputs": [
    {
     "name": "stdout",
     "output_type": "stream",
     "text": [
      "Shell of uniform density, with v_min = 0.10c and v_max = 0.30c\n",
      "The radioactive mass: 0.05 solar mass\n",
      "The average column density <Sigma>t^2: 2.17e+11 g cm^{-2} s^2\n",
      "n is: 2.37\n"
     ]
    }
   ],
   "source": [
    "# uniform density shell profile\n",
    "c = 29979245800\n",
    "\n",
    "M = 0.05 * 1.988e33\n",
    "vmin = 0.1*c\n",
    "vmax = 0.3*c\n",
    "\n",
    "rho_t = lambda v, t: M / (4 * np.pi / 3 * ((vmax * t)**3 - (vmin * t)**3)) * (v >= vmin) * (v <= vmax)\n",
    "X_rad = lambda v: 1 # radioactive matter mass fraction\n",
    "rho_t_rad = lambda v, t: rho_t(v,t) * X_rad(v)\n",
    "\n",
    "# define velocity space for the integration\n",
    "v_space = np.linspace(vmin, vmax,50)\n",
    "\n",
    "#take arb. time t_0\n",
    "t_0 = 1\n",
    "rho_0 = lambda v: rho_t(v,t_0)\n",
    "rho_0_rad = lambda v: rho_t_rad(v,t_0)\n",
    "\n",
    "assert(np.abs(spherical.calc_M(rho_0(v_space),t_0,v_space)/M-1)<0.01) # make sure the v_space is enough for 1% accuracy in M\n",
    "\n",
    "xi_calculate = np.logspace(-2, 2, 40) # points for the calc. of f_xi\n",
    "M_rad, column_density_t_squared, f_xi_interp, n, f_gamma_E_t = spherical.calc_all_single_component(rho_0, rho_0_rad, t_0, v_space, xi_calculate, M)\n",
    "\n",
    "print('Shell of uniform density, with v_min = %.2fc and v_max = %.2fc'%(vmin/c,vmax/c)) \n",
    "print('The radioactive mass:',M_rad/1.988e33,'solar mass')\n",
    "print('The average column density <Sigma>t^2: %.2e' %column_density_t_squared,'g cm^{-2} s^2')\n",
    "print('n is: %.2f'%n)"
   ]
  },
  {
   "cell_type": "code",
   "execution_count": 3,
   "metadata": {},
   "outputs": [
    {
     "name": "stdout",
     "output_type": "stream",
     "text": [
      "Waxman et al 2018 ejecta model, with v_M = 0.15c and alpha = 0.7\n",
      "The radioactive mass: 0.05 solar mass\n",
      "The average column density <Sigma>t^2: 1.69e+11 g cm^{-2} s^2\n",
      "n is: 1.89\n"
     ]
    }
   ],
   "source": [
    "# Waxman et al. 2018 density profile\n",
    "# M chosen will be the mass between vM and c.\n",
    "# However, the profile definition is with the parameter M of mass from vM to infty\n",
    "# Therefore, the profile will be rescaled to give M between vM and c\n",
    "c = 29979245800\n",
    "M = 0.05 * 1.988e33\n",
    "alpha = 0.7\n",
    "vM = 0.15*c\n",
    "\n",
    "rho_t = lambda v, t: M / (4 * np.pi * alpha * v**3) * (v/vM)**(-1/alpha) * (v >= vM)\n",
    "X_rad = lambda v: 1 # radioactive matter mass fraction\n",
    "rho_t_rad = lambda v, t: rho_t(v,t) * X_rad(v)\n",
    "\n",
    "# define velocity space for the integration\n",
    "v_space = np.logspace(np.log10(vM), np.log10(c),100)\n",
    "\n",
    "#take arb. time t_0\n",
    "t_0 = 1\n",
    "rho_0 = lambda v: rho_t(v,t_0)\n",
    "rho_0_rad = lambda v: rho_t_rad(v,t_0)\n",
    "\n",
    "xi_calculate = np.logspace(-2, 2, 40) # points for the calc. of f_xi\n",
    "M_rad, column_density_t_squared, f_xi_interp, n, f_gamma_E_t = spherical.calc_all_single_component(rho_0, rho_0_rad, t_0, v_space, xi_calculate, M)\n",
    "\n",
    "print('Waxman et al 2018 ejecta model, with v_M = %.2fc and alpha = %.1f'%(vM/c,alpha)) \n",
    "print('The radioactive mass:',M_rad/1.988e33,'solar mass')\n",
    "print('The average column density <Sigma>t^2: %.2e' %column_density_t_squared,'g cm^{-2} s^2')\n",
    "print('n is: %.2f'%n)"
   ]
  },
  {
   "cell_type": "code",
   "execution_count": 4,
   "metadata": {},
   "outputs": [
    {
     "name": "stdout",
     "output_type": "stream",
     "text": [
      "Barnes & Kasen 2013 ejecta model, with M = 0.0500 solar mass and v_char = 0.20c\n",
      "The radioactive mass: 0.0500 solar mass\n",
      "The average column density <Sigma>t^2: 3.19e+11 g cm^{-2} s^2\n",
      "n is: 2.10\n"
     ]
    }
   ],
   "source": [
    "# Barnes & Kasen 2013 density profile\n",
    "c = 29979245800\n",
    "\n",
    "M = 0.05 * 1.988e33\n",
    "v_char = 0.2 * c\n",
    "E = 0.5 * M * v_char**2\n",
    "\n",
    "# Find the paramters zeta_v and zeta_rho for these M and E, see Barnes & Kasen 2013, eqs. 4-5\n",
    "vt_zeta_v = lambda zeta_v: 7.1e8 * zeta_v * (E/1e51)**0.5 * (M/1.988e33)**-0.5\n",
    "rho_zeta_rho = lambda v, t, zeta_rho, zeta_v: zeta_rho * M * (vt_zeta_v(zeta_v)*t)**-3 * (v / vt_zeta_v(zeta_v))**-1 * (v < vt_zeta_v(zeta_v)) + zeta_rho * M * (vt_zeta_v(zeta_v)*t)**-3 * (v / vt_zeta_v(zeta_v))**-10 * (v > vt_zeta_v(zeta_v))\n",
    "\n",
    "from scipy.integrate import trapz\n",
    "from scipy.optimize import fsolve\n",
    "def equation_to_solve(zeta_rho_v): # solve for \\int{dm}=M and \\int{dm * v^2/2} = E\n",
    "    v_space = np.arange(5e6, c + 5e6, 5e6)\n",
    "    t_0 = 1 # arb. time\n",
    "    return np.array([spherical.calc_M(rho_zeta_rho(v_space,t_0, zeta_rho_v[0],zeta_rho_v[1]),t_0,v_space)/M - 1,\n",
    "            trapz(4 * np.pi * v_space**2 * rho_zeta_rho(v_space,t_0, zeta_rho_v[0],zeta_rho_v[1]) * t_0**3 * 0.5 * v_space**2, v_space)/E - 1])\n",
    "zeta_rho, zeta_v = fsolve(equation_to_solve, np.array([1.0,1.0]))\n",
    "\n",
    "vt = vt_zeta_v(zeta_v)\n",
    "rho_t = lambda v, t: rho_zeta_rho(v,t,zeta_rho,zeta_v)\n",
    "X_rad = lambda v: 1 # radioactive matter mass fraction\n",
    "rho_t_rad = lambda v, t: rho_t(v,t) * X_rad(v)\n",
    "\n",
    "# define velocity space for the integration\n",
    "v_space = np.linspace(v_char/50,v_char*3,100)\n",
    "\n",
    "#take arb. time t_0\n",
    "t_0 = 1\n",
    "rho_0 = lambda v: rho_t(v,t_0)\n",
    "rho_0_rad = lambda v: rho_t_rad(v,t_0)\n",
    "\n",
    "assert(np.abs(spherical.calc_M(rho_0(v_space),t_0,v_space)/M-1)<0.01) # make sure the v_space is enough for 1% accuracy in M\n",
    "\n",
    "xi_calculate = np.logspace(-3,3,2)\n",
    "M_rad, column_density_t_squared, f_xi_interp, n, f_gamma_E_t = spherical.calc_all_single_component(rho_0, rho_0_rad, t_0, v_space, xi_calculate, M)\n",
    "\n",
    "print('Barnes & Kasen 2013 ejecta model, with M = %.4f solar mass and v_char = %.2fc'%(M/1.988e33,v_char/c)) \n",
    "print('The radioactive mass: %.4f'%(M_rad/1.988e33),'solar mass')\n",
    "print('The average column density <Sigma>t^2: %.2e' %column_density_t_squared,'g cm^{-2} s^2')\n",
    "print('n is: %.2f'%n)"
   ]
  },
  {
   "cell_type": "code",
   "execution_count": null,
   "metadata": {},
   "outputs": [],
   "source": []
  }
 ],
 "metadata": {
  "kernelspec": {
   "display_name": "Python 3 (ipykernel)",
   "language": "python",
   "name": "python3"
  },
  "language_info": {
   "codemirror_mode": {
    "name": "ipython",
    "version": 3
   },
   "file_extension": ".py",
   "mimetype": "text/x-python",
   "name": "python",
   "nbconvert_exporter": "python",
   "pygments_lexer": "ipython3",
   "version": "3.12.0"
  }
 },
 "nbformat": 4,
 "nbformat_minor": 4
}
